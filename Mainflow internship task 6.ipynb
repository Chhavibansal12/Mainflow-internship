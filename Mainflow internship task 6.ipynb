{
 "cells": [
  {
   "cell_type": "code",
   "execution_count": 6,
   "id": "c9a0f931-332b-4874-807a-c43f33d66286",
   "metadata": {},
   "outputs": [],
   "source": [
    "import pandas as pd\n",
    "import numpy as np"
   ]
  },
  {
   "cell_type": "code",
   "execution_count": 7,
   "id": "6cbc9050-6835-45b3-b862-c0efb00e0246",
   "metadata": {},
   "outputs": [],
   "source": [
    "df = pd.read_csv('C:\\\\Users\\\\Chhavi\\\\Downloads\\\\disney_plus_titles.csv')"
   ]
  },
  {
   "cell_type": "code",
   "execution_count": 8,
   "id": "b669ef48-4c00-45fb-97a3-f42741edf002",
   "metadata": {},
   "outputs": [
    {
     "data": {
      "text/html": [
       "<div>\n",
       "<style scoped>\n",
       "    .dataframe tbody tr th:only-of-type {\n",
       "        vertical-align: middle;\n",
       "    }\n",
       "\n",
       "    .dataframe tbody tr th {\n",
       "        vertical-align: top;\n",
       "    }\n",
       "\n",
       "    .dataframe thead th {\n",
       "        text-align: right;\n",
       "    }\n",
       "</style>\n",
       "<table border=\"1\" class=\"dataframe\">\n",
       "  <thead>\n",
       "    <tr style=\"text-align: right;\">\n",
       "      <th></th>\n",
       "      <th>show_id</th>\n",
       "      <th>type</th>\n",
       "      <th>title</th>\n",
       "      <th>director</th>\n",
       "      <th>cast</th>\n",
       "      <th>country</th>\n",
       "      <th>date_added</th>\n",
       "      <th>release_year</th>\n",
       "      <th>rating</th>\n",
       "      <th>duration</th>\n",
       "      <th>listed_in</th>\n",
       "      <th>description</th>\n",
       "    </tr>\n",
       "  </thead>\n",
       "  <tbody>\n",
       "    <tr>\n",
       "      <th>0</th>\n",
       "      <td>s1</td>\n",
       "      <td>Movie</td>\n",
       "      <td>A Spark Story</td>\n",
       "      <td>Jason Sterman, Leanne Dare</td>\n",
       "      <td>Apthon Corbin, Louis Gonzales</td>\n",
       "      <td>NaN</td>\n",
       "      <td>September 24, 2021</td>\n",
       "      <td>2021</td>\n",
       "      <td>TV-PG</td>\n",
       "      <td>88 min</td>\n",
       "      <td>Documentary</td>\n",
       "      <td>Two Pixar filmmakers strive to bring their uni...</td>\n",
       "    </tr>\n",
       "    <tr>\n",
       "      <th>1</th>\n",
       "      <td>s2</td>\n",
       "      <td>Movie</td>\n",
       "      <td>Spooky Buddies</td>\n",
       "      <td>Robert Vince</td>\n",
       "      <td>Tucker Albrizzi, Diedrich Bader, Ameko Eks Mas...</td>\n",
       "      <td>United States, Canada</td>\n",
       "      <td>September 24, 2021</td>\n",
       "      <td>2011</td>\n",
       "      <td>G</td>\n",
       "      <td>93 min</td>\n",
       "      <td>Comedy, Fantasy, Kids</td>\n",
       "      <td>The puppies go on a spooky adventure through a...</td>\n",
       "    </tr>\n",
       "    <tr>\n",
       "      <th>2</th>\n",
       "      <td>s3</td>\n",
       "      <td>Movie</td>\n",
       "      <td>The Fault in Our Stars</td>\n",
       "      <td>Josh Boone</td>\n",
       "      <td>Shailene Woodley, Ansel Elgort, Laura Dern, Sa...</td>\n",
       "      <td>United States</td>\n",
       "      <td>September 24, 2021</td>\n",
       "      <td>2014</td>\n",
       "      <td>PG-13</td>\n",
       "      <td>127 min</td>\n",
       "      <td>Coming of Age, Drama, Romance</td>\n",
       "      <td>Hazel and Gus share a love that sweeps them on...</td>\n",
       "    </tr>\n",
       "    <tr>\n",
       "      <th>3</th>\n",
       "      <td>s4</td>\n",
       "      <td>TV Show</td>\n",
       "      <td>Dog: Impossible</td>\n",
       "      <td>NaN</td>\n",
       "      <td>Matt Beisner</td>\n",
       "      <td>United States</td>\n",
       "      <td>September 22, 2021</td>\n",
       "      <td>2019</td>\n",
       "      <td>TV-PG</td>\n",
       "      <td>2 Seasons</td>\n",
       "      <td>Animals &amp; Nature, Docuseries, Family</td>\n",
       "      <td>Matt Beisner uses unique approaches to modifyi...</td>\n",
       "    </tr>\n",
       "    <tr>\n",
       "      <th>4</th>\n",
       "      <td>s5</td>\n",
       "      <td>TV Show</td>\n",
       "      <td>Spidey And His Amazing Friends</td>\n",
       "      <td>NaN</td>\n",
       "      <td>Benjamin Valic, Lily Sanfelippo, Jakari Fraser...</td>\n",
       "      <td>United States</td>\n",
       "      <td>September 22, 2021</td>\n",
       "      <td>2021</td>\n",
       "      <td>TV-Y</td>\n",
       "      <td>1 Season</td>\n",
       "      <td>Action-Adventure, Animation, Kids</td>\n",
       "      <td>Spidey teams up with pals to become The Spidey...</td>\n",
       "    </tr>\n",
       "  </tbody>\n",
       "</table>\n",
       "</div>"
      ],
      "text/plain": [
       "  show_id     type                           title  \\\n",
       "0      s1    Movie                   A Spark Story   \n",
       "1      s2    Movie                  Spooky Buddies   \n",
       "2      s3    Movie          The Fault in Our Stars   \n",
       "3      s4  TV Show                 Dog: Impossible   \n",
       "4      s5  TV Show  Spidey And His Amazing Friends   \n",
       "\n",
       "                     director  \\\n",
       "0  Jason Sterman, Leanne Dare   \n",
       "1                Robert Vince   \n",
       "2                  Josh Boone   \n",
       "3                         NaN   \n",
       "4                         NaN   \n",
       "\n",
       "                                                cast                country  \\\n",
       "0                      Apthon Corbin, Louis Gonzales                    NaN   \n",
       "1  Tucker Albrizzi, Diedrich Bader, Ameko Eks Mas...  United States, Canada   \n",
       "2  Shailene Woodley, Ansel Elgort, Laura Dern, Sa...          United States   \n",
       "3                                       Matt Beisner          United States   \n",
       "4  Benjamin Valic, Lily Sanfelippo, Jakari Fraser...          United States   \n",
       "\n",
       "           date_added  release_year rating   duration  \\\n",
       "0  September 24, 2021          2021  TV-PG     88 min   \n",
       "1  September 24, 2021          2011      G     93 min   \n",
       "2  September 24, 2021          2014  PG-13    127 min   \n",
       "3  September 22, 2021          2019  TV-PG  2 Seasons   \n",
       "4  September 22, 2021          2021   TV-Y   1 Season   \n",
       "\n",
       "                              listed_in  \\\n",
       "0                           Documentary   \n",
       "1                 Comedy, Fantasy, Kids   \n",
       "2         Coming of Age, Drama, Romance   \n",
       "3  Animals & Nature, Docuseries, Family   \n",
       "4     Action-Adventure, Animation, Kids   \n",
       "\n",
       "                                         description  \n",
       "0  Two Pixar filmmakers strive to bring their uni...  \n",
       "1  The puppies go on a spooky adventure through a...  \n",
       "2  Hazel and Gus share a love that sweeps them on...  \n",
       "3  Matt Beisner uses unique approaches to modifyi...  \n",
       "4  Spidey teams up with pals to become The Spidey...  "
      ]
     },
     "execution_count": 8,
     "metadata": {},
     "output_type": "execute_result"
    }
   ],
   "source": [
    "df.head()"
   ]
  },
  {
   "cell_type": "code",
   "execution_count": 9,
   "id": "e288f827-b363-42a0-8448-3563167738fa",
   "metadata": {},
   "outputs": [
    {
     "data": {
      "text/plain": [
       "(1368, 12)"
      ]
     },
     "execution_count": 9,
     "metadata": {},
     "output_type": "execute_result"
    }
   ],
   "source": [
    "df.shape"
   ]
  },
  {
   "cell_type": "code",
   "execution_count": 10,
   "id": "1f9f1653-7af6-46ed-abe8-ec256ec73e3c",
   "metadata": {},
   "outputs": [
    {
     "name": "stdout",
     "output_type": "stream",
     "text": [
      "<class 'pandas.core.frame.DataFrame'>\n",
      "RangeIndex: 1368 entries, 0 to 1367\n",
      "Data columns (total 12 columns):\n",
      " #   Column        Non-Null Count  Dtype \n",
      "---  ------        --------------  ----- \n",
      " 0   show_id       1368 non-null   object\n",
      " 1   type          1368 non-null   object\n",
      " 2   title         1368 non-null   object\n",
      " 3   director      928 non-null    object\n",
      " 4   cast          1194 non-null   object\n",
      " 5   country       1193 non-null   object\n",
      " 6   date_added    1365 non-null   object\n",
      " 7   release_year  1368 non-null   int64 \n",
      " 8   rating        1366 non-null   object\n",
      " 9   duration      1368 non-null   object\n",
      " 10  listed_in     1368 non-null   object\n",
      " 11  description   1368 non-null   object\n",
      "dtypes: int64(1), object(11)\n",
      "memory usage: 128.4+ KB\n"
     ]
    }
   ],
   "source": [
    "df.info()"
   ]
  },
  {
   "cell_type": "code",
   "execution_count": 11,
   "id": "e9a11c43-965a-4c24-ac5e-8e55247e3141",
   "metadata": {},
   "outputs": [
    {
     "data": {
      "text/plain": [
       "Index(['show_id', 'type', 'title', 'director', 'cast', 'country', 'date_added',\n",
       "       'release_year', 'rating', 'duration', 'listed_in', 'description'],\n",
       "      dtype='object')"
      ]
     },
     "execution_count": 11,
     "metadata": {},
     "output_type": "execute_result"
    }
   ],
   "source": [
    "df.columns"
   ]
  },
  {
   "cell_type": "code",
   "execution_count": 26,
   "id": "ac366fdf-c90a-48ab-a06a-7945064e55c3",
   "metadata": {},
   "outputs": [],
   "source": [
    "import pandas as pd\n",
    "import numpy as np\n",
    "import matplotlib.pyplot as plt\n",
    "import seaborn as sns\n",
    "from statsmodels.tsa.seasonal import seasonal_decompose\n",
    "from statsmodels.tsa.holtwinters import ExponentialSmoothing"
   ]
  },
  {
   "cell_type": "code",
   "execution_count": 35,
   "id": "0307d30c-06f0-4828-8df7-cd8f71b114f1",
   "metadata": {},
   "outputs": [
    {
     "name": "stderr",
     "output_type": "stream",
     "text": [
      "C:\\Users\\Chhavi\\AppData\\Local\\Programs\\Python\\Python312\\Lib\\site-packages\\statsmodels\\tsa\\base\\tsa_model.py:473: ValueWarning: No frequency information was provided, so inferred frequency ME will be used.\n",
      "  self._init_dates(dates, freq)\n"
     ]
    }
   ],
   "source": [
    "model = ExponentialSmoothing(monthly_data, seasonal='add', seasonal_periods=12).fit()\n",
    "forecast =model.forecast(12)"
   ]
  },
  {
   "cell_type": "code",
   "execution_count": 44,
   "id": "fc0a6030-d3fa-419c-9f2e-22031ce4ef51",
   "metadata": {},
   "outputs": [
    {
     "data": {
      "image/png": "[encoded data removed]",
      "text/plain": [
       "<Figure size 1000x600 with 1 Axes>"
      ]
     },
     "metadata": {},
     "output_type": "display_data"
    }
   ],
   "source": [
    "plt.figure(figsize=(10, 6))\n",
    "plt.plot(monthly_data, label='Original')\n",
    "plt.plot(forecast, label='Forecast', linestyle = '--')\n",
    "plt.legend()\n",
    "plt.show()"
   ]
  }
 ],
 "metadata": {
  "kernelspec": {
   "display_name": "Python 3 (ipykernel)",
   "language": "python",
   "name": "python3"
  },
  "language_info": {
   "codemirror_mode": {
    "name": "ipython",
    "version": 3
   },
   "file_extension": ".py",
   "mimetype": "text/x-python",
   "name": "python",
   "nbconvert_exporter": "python",
   "pygments_lexer": "ipython3",
   "version": "3.12.4"
  }
 },
 "nbformat": 4,
 "nbformat_minor": 5
}
